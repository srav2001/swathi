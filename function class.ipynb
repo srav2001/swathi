{
 "cells": [
  {
   "cell_type": "markdown",
   "id": "1e759fa8",
   "metadata": {},
   "source": [
    "# Functions"
   ]
  },
  {
   "cell_type": "code",
   "execution_count": 4,
   "id": "4fb1292a",
   "metadata": {},
   "outputs": [
    {
     "name": "stdout",
     "output_type": "stream",
     "text": [
      "my name is Sravani\n"
     ]
    }
   ],
   "source": [
    "def add(name):\n",
    "    print(f\"my name is {name.title()}\")\n",
    "add('sravani')    \n",
    "   \n",
    "    \n",
    "    "
   ]
  },
  {
   "cell_type": "markdown",
   "id": "2e05eda3",
   "metadata": {},
   "source": [
    "# types of arguments\n",
    "1.positional arguments\n",
    "2.keyword arguments"
   ]
  },
  {
   "cell_type": "code",
   "execution_count": 10,
   "id": "91812642",
   "metadata": {},
   "outputs": [
    {
     "name": "stdout",
     "output_type": "stream",
     "text": [
      "Sraavni\n",
      "Narapu\n",
      "Deep\n",
      "Hell\n"
     ]
    }
   ],
   "source": [
    "def my_name(firstname,secondname):\n",
    "    print(f\"{firstname.title()}\")\n",
    "    print(f\"{secondname.title()}\")\n",
    "my_name('sraavni','narapu')\n",
    "my_name('deep','hell')\n"
   ]
  },
  {
   "cell_type": "code",
   "execution_count": 13,
   "id": "0bddd09b",
   "metadata": {},
   "outputs": [
    {
     "name": "stdout",
     "output_type": "stream",
     "text": [
      "sravdeep\n"
     ]
    }
   ],
   "source": [
    "def full_name(fname,sname):\n",
    "    print(fname+sname)\n",
    "full_name('srav','deep')    "
   ]
  },
  {
   "cell_type": "code",
   "execution_count": 15,
   "id": "f6abb962",
   "metadata": {},
   "outputs": [
    {
     "name": "stdout",
     "output_type": "stream",
     "text": [
      "the youngest child is swathi\n"
     ]
    }
   ],
   "source": [
    "def my_function(*kids):# it just like a tuple\n",
    "    print(\"the youngest child is\",kids[2])\n",
    "my_function('srav','deep','swathi')    \n",
    "    "
   ]
  },
  {
   "cell_type": "markdown",
   "id": "4023ee24",
   "metadata": {},
   "source": [
    "# keyword arguments"
   ]
  },
  {
   "cell_type": "code",
   "execution_count": 16,
   "id": "93caadf8",
   "metadata": {},
   "outputs": [
    {
     "name": "stdout",
     "output_type": "stream",
     "text": [
      "the youngest child is srav\n"
     ]
    }
   ],
   "source": [
    "def my_name(child1,child2):\n",
    "    print(\"the youngest child is\",child1)\n",
    "my_name(child1='srav',child2='dee')    \n",
    "    \n",
    "    "
   ]
  },
  {
   "cell_type": "code",
   "execution_count": 23,
   "id": "3f38044e",
   "metadata": {},
   "outputs": [
    {
     "name": "stdout",
     "output_type": "stream",
     "text": [
      "my name is {'fname': 'narapu', 'sname': 'srav'}\n"
     ]
    }
   ],
   "source": [
    "def my_function(**name): # it is just like dictionary\n",
    "    print(\"my name is\",name)\n",
    "my_function(fname='narapu',sname='srav')    "
   ]
  },
  {
   "cell_type": "code",
   "execution_count": 26,
   "id": "5ce73d18",
   "metadata": {},
   "outputs": [
    {
     "name": "stdout",
     "output_type": "stream",
     "text": [
      "my name is narapu\n"
     ]
    }
   ],
   "source": [
    "def my_function(**name): \n",
    "    print(\"my name is\",name[\"fname\"])\n",
    "my_function(fname='narapu',sname='srav')    "
   ]
  },
  {
   "cell_type": "code",
   "execution_count": 1,
   "id": "090a510a",
   "metadata": {},
   "outputs": [
    {
     "name": "stdout",
     "output_type": "stream",
     "text": [
      "7\n"
     ]
    }
   ],
   "source": [
    "def tuple(*t):\n",
    "    print(t[3])\n",
    "tuple(2,3,4,7)    "
   ]
  },
  {
   "cell_type": "markdown",
   "id": "68093750",
   "metadata": {},
   "source": [
    "# default parameter value"
   ]
  },
  {
   "cell_type": "code",
   "execution_count": 4,
   "id": "901ef08c",
   "metadata": {},
   "outputs": [
    {
     "name": "stdout",
     "output_type": "stream",
     "text": [
      "i am from india\n",
      "i am from sweden\n"
     ]
    }
   ],
   "source": [
    "def my_function(country='india'):\n",
    "    print(\"i am from\",country)\n",
    "my_function() \n",
    "my_function('sweden')"
   ]
  },
  {
   "cell_type": "code",
   "execution_count": 7,
   "id": "c1a95242",
   "metadata": {},
   "outputs": [
    {
     "name": "stdout",
     "output_type": "stream",
     "text": [
      "apple\n",
      "banana\n",
      "orange\n"
     ]
    }
   ],
   "source": [
    "def my_function(food):\n",
    "    for i in food:\n",
    "        print(i)\n",
    "fruits=('apple','banana','orange')\n",
    "my_function(fruits)"
   ]
  },
  {
   "cell_type": "markdown",
   "id": "eee2d39a",
   "metadata": {},
   "source": [
    "# return a value"
   ]
  },
  {
   "cell_type": "code",
   "execution_count": 10,
   "id": "399bfd9d",
   "metadata": {},
   "outputs": [
    {
     "name": "stdout",
     "output_type": "stream",
     "text": [
      "5\n",
      "11\n"
     ]
    }
   ],
   "source": [
    "def add(a,b):\n",
    "    return a+b\n",
    "print(add(2,3))\n",
    "print(add(4,7))\n",
    "    "
   ]
  },
  {
   "cell_type": "code",
   "execution_count": 12,
   "id": "c77b8f6e",
   "metadata": {},
   "outputs": [],
   "source": [
    "def add():\n",
    "    pass"
   ]
  },
  {
   "cell_type": "code",
   "execution_count": 15,
   "id": "bc2cffc8",
   "metadata": {},
   "outputs": [
    {
     "data": {
      "text/plain": [
       "set()"
      ]
     },
     "execution_count": 15,
     "metadata": {},
     "output_type": "execute_result"
    }
   ],
   "source": [
    "s=list()\n",
    "l=set(s)\n",
    "l\n"
   ]
  },
  {
   "cell_type": "code",
   "execution_count": 16,
   "id": "75f7b09d",
   "metadata": {},
   "outputs": [
    {
     "ename": "IndexError",
     "evalue": "list index out of range",
     "output_type": "error",
     "traceback": [
      "\u001b[1;31m---------------------------------------------------------------------------\u001b[0m",
      "\u001b[1;31mIndexError\u001b[0m                                Traceback (most recent call last)",
      "\u001b[1;32m<ipython-input-16-69678a0523f1>\u001b[0m in \u001b[0;36m<module>\u001b[1;34m\u001b[0m\n\u001b[0;32m      1\u001b[0m \u001b[0ml\u001b[0m\u001b[1;33m=\u001b[0m\u001b[1;33m[\u001b[0m\u001b[1;36m2\u001b[0m\u001b[1;33m,\u001b[0m\u001b[1;36m2\u001b[0m\u001b[1;33m,\u001b[0m\u001b[1;36m8\u001b[0m\u001b[1;33m]\u001b[0m\u001b[1;33m\u001b[0m\u001b[1;33m\u001b[0m\u001b[0m\n\u001b[1;32m----> 2\u001b[1;33m \u001b[0mprint\u001b[0m\u001b[1;33m(\u001b[0m\u001b[0ml\u001b[0m\u001b[1;33m[\u001b[0m\u001b[1;36m8\u001b[0m\u001b[1;33m]\u001b[0m\u001b[1;33m)\u001b[0m\u001b[1;33m\u001b[0m\u001b[1;33m\u001b[0m\u001b[0m\n\u001b[0m",
      "\u001b[1;31mIndexError\u001b[0m: list index out of range"
     ]
    }
   ],
   "source": [
    "l=[2,2,8]\n",
    "print(l[8])"
   ]
  },
  {
   "cell_type": "code",
   "execution_count": 18,
   "id": "bd826973",
   "metadata": {},
   "outputs": [
    {
     "data": {
      "text/plain": [
       "'a'"
      ]
     },
     "execution_count": 18,
     "metadata": {},
     "output_type": "execute_result"
    }
   ],
   "source": [
    "s='srav'\n",
    "s[2]"
   ]
  },
  {
   "cell_type": "code",
   "execution_count": 19,
   "id": "1e99c366",
   "metadata": {},
   "outputs": [
    {
     "ename": "KeyError",
     "evalue": "0",
     "output_type": "error",
     "traceback": [
      "\u001b[1;31m---------------------------------------------------------------------------\u001b[0m",
      "\u001b[1;31mKeyError\u001b[0m                                  Traceback (most recent call last)",
      "\u001b[1;32m<ipython-input-19-d8c7c3556cba>\u001b[0m in \u001b[0;36m<module>\u001b[1;34m\u001b[0m\n\u001b[0;32m      1\u001b[0m \u001b[0ms\u001b[0m\u001b[1;33m=\u001b[0m\u001b[1;33m{\u001b[0m\u001b[1;36m1\u001b[0m\u001b[1;33m:\u001b[0m\u001b[1;36m3\u001b[0m\u001b[1;33m,\u001b[0m\u001b[1;36m4\u001b[0m\u001b[1;33m:\u001b[0m\u001b[1;36m7\u001b[0m\u001b[1;33m}\u001b[0m\u001b[1;33m\u001b[0m\u001b[1;33m\u001b[0m\u001b[0m\n\u001b[1;32m----> 2\u001b[1;33m \u001b[0mprint\u001b[0m\u001b[1;33m(\u001b[0m\u001b[0ms\u001b[0m\u001b[1;33m[\u001b[0m\u001b[1;36m0\u001b[0m\u001b[1;33m]\u001b[0m\u001b[1;33m)\u001b[0m\u001b[1;33m\u001b[0m\u001b[1;33m\u001b[0m\u001b[0m\n\u001b[0m",
      "\u001b[1;31mKeyError\u001b[0m: 0"
     ]
    }
   ],
   "source": [
    "s={1:3,4:7}\n",
    "print(s[0])"
   ]
  },
  {
   "cell_type": "code",
   "execution_count": 24,
   "id": "a22f9528",
   "metadata": {},
   "outputs": [
    {
     "ename": "TypeError",
     "evalue": "'tuple' object doesn't support item deletion",
     "output_type": "error",
     "traceback": [
      "\u001b[1;31m---------------------------------------------------------------------------\u001b[0m",
      "\u001b[1;31mTypeError\u001b[0m                                 Traceback (most recent call last)",
      "\u001b[1;32m<ipython-input-24-f79919d723b6>\u001b[0m in \u001b[0;36m<module>\u001b[1;34m\u001b[0m\n\u001b[0;32m      1\u001b[0m \u001b[0mt2\u001b[0m\u001b[1;33m=\u001b[0m\u001b[1;33m(\u001b[0m\u001b[1;36m1\u001b[0m\u001b[1;33m,\u001b[0m\u001b[1;36m2\u001b[0m\u001b[1;33m,\u001b[0m\u001b[1;36m3\u001b[0m\u001b[1;33m,\u001b[0m\u001b[1;36m4\u001b[0m\u001b[1;33m)\u001b[0m\u001b[1;33m\u001b[0m\u001b[1;33m\u001b[0m\u001b[0m\n\u001b[1;32m----> 2\u001b[1;33m \u001b[1;32mdel\u001b[0m\u001b[1;33m(\u001b[0m\u001b[0mt2\u001b[0m\u001b[1;33m[\u001b[0m\u001b[1;36m2\u001b[0m\u001b[1;33m]\u001b[0m\u001b[1;33m)\u001b[0m\u001b[1;33m\u001b[0m\u001b[1;33m\u001b[0m\u001b[0m\n\u001b[0m",
      "\u001b[1;31mTypeError\u001b[0m: 'tuple' object doesn't support item deletion"
     ]
    }
   ],
   "source": [
    "\n",
    "t2=(1,2,3,4)\n",
    "del(t2[2])"
   ]
  },
  {
   "cell_type": "code",
   "execution_count": 22,
   "id": "ec6627e6",
   "metadata": {},
   "outputs": [
    {
     "name": "stdout",
     "output_type": "stream",
     "text": [
      "<class 'int'>\n"
     ]
    }
   ],
   "source": [
    "d=(1)\n",
    "print(type(d))"
   ]
  },
  {
   "cell_type": "code",
   "execution_count": 6,
   "id": "505987e1",
   "metadata": {},
   "outputs": [
    {
     "name": "stdout",
     "output_type": "stream",
     "text": [
      "25\n"
     ]
    }
   ],
   "source": [
    "def square(x):\n",
    "    return x**2\n",
    "print(square(5))\n"
   ]
  },
  {
   "cell_type": "code",
   "execution_count": 7,
   "id": "d8a49e3e",
   "metadata": {},
   "outputs": [
    {
     "name": "stdout",
     "output_type": "stream",
     "text": [
      "5\n"
     ]
    }
   ],
   "source": [
    "def myfun(x):\n",
    "    print(x[3])\n",
    "y=[2,3,4,5]\n",
    "myfun(y)"
   ]
  },
  {
   "cell_type": "code",
   "execution_count": 10,
   "id": "30e53d1c",
   "metadata": {},
   "outputs": [
    {
     "name": "stdout",
     "output_type": "stream",
     "text": [
      "5\n",
      "[2, 3, 4, 5, 6]\n"
     ]
    }
   ],
   "source": [
    "def myfun(x):\n",
    "    print(x[3])\n",
    "    x.append(6)\n",
    "y=[2,3,4,5]\n",
    "myfun(y)\n",
    "print(y)"
   ]
  },
  {
   "cell_type": "code",
   "execution_count": 15,
   "id": "ad4af692",
   "metadata": {},
   "outputs": [
    {
     "name": "stdout",
     "output_type": "stream",
     "text": [
      "7\n",
      "3\n"
     ]
    }
   ],
   "source": [
    "def swap(x,y):\n",
    "    temp=x\n",
    "    x=y\n",
    "    y=temp\n",
    "    print(x)\n",
    "    print(y)\n",
    "swap(3,7)\n",
    "    \n",
    "    "
   ]
  },
  {
   "cell_type": "code",
   "execution_count": 22,
   "id": "5f323a4d",
   "metadata": {},
   "outputs": [
    {
     "name": "stdout",
     "output_type": "stream",
     "text": [
      "3\n",
      "45\n",
      "7\n",
      "9\n"
     ]
    }
   ],
   "source": [
    "def my(x):\n",
    "    for i in x:\n",
    "        \n",
    "        print(i)\n",
    "d=[3,45,7,9]\n",
    "my(d)"
   ]
  },
  {
   "cell_type": "code",
   "execution_count": 26,
   "id": "21c03a08",
   "metadata": {},
   "outputs": [
    {
     "name": "stdout",
     "output_type": "stream",
     "text": [
      "45\n"
     ]
    }
   ],
   "source": [
    "arr=[2,36,8,9]\n",
    "print(sum(arr,-10))\n"
   ]
  },
  {
   "cell_type": "markdown",
   "id": "25ab8411",
   "metadata": {},
   "source": []
  }
 ],
 "metadata": {
  "kernelspec": {
   "display_name": "Python 3",
   "language": "python",
   "name": "python3"
  },
  "language_info": {
   "codemirror_mode": {
    "name": "ipython",
    "version": 3
   },
   "file_extension": ".py",
   "mimetype": "text/x-python",
   "name": "python",
   "nbconvert_exporter": "python",
   "pygments_lexer": "ipython3",
   "version": "3.8.8"
  }
 },
 "nbformat": 4,
 "nbformat_minor": 5
}
